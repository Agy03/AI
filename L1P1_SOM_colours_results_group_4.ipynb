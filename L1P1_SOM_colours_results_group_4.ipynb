{
  "cells": [
    {
      "cell_type": "markdown",
      "metadata": {
        "id": "qjFoxBuouM6D"
      },
      "source": [
        "# Practical work 0 - Self-Organising Maps\n",
        "## Enviroment preparation\n",
        "#### Libraries"
      ]
    },
    {
      "cell_type": "code",
      "execution_count": null,
      "metadata": {
        "id": "UTzp3SHsuM6E",
        "scrolled": true
      },
      "outputs": [],
      "source": [
        "# from __future__ import division\n",
        "\n",
        "import numpy as np\n",
        "from matplotlib import pyplot as plt\n",
        "from matplotlib import patches as patches\n",
        "from copy import deepcopy\n",
        "from IPython.display import clear_output\n",
        "\n",
        "%matplotlib inline"
      ]
    },
    {
      "cell_type": "markdown",
      "metadata": {
        "id": "BUQTVdZ2uM6F"
      },
      "source": [
        "#### Create de training dataset"
      ]
    },
    {
      "cell_type": "code",
      "execution_count": null,
      "metadata": {
        "collapsed": true,
        "id": "Rtt9lLCluM6F"
      },
      "outputs": [],
      "source": [
        "# Create a matrix of 100 random colors using the RGB code (values 0 to 255)\n",
        "\n",
        "min_value = 0\n",
        "max_value = 255\n",
        "color_values = 100\n",
        "num_colors = 3\n",
        "\n",
        "#color_values = 100\n",
        "#num_colors = 3\n",
        "\n",
        "initial_data = np.random.randint(min_value, max_value, (color_values, num_colors))"
      ]
    },
    {
      "cell_type": "code",
      "execution_count": null,
      "metadata": {
        "id": "YinJXe5RwR3I"
      },
      "outputs": [],
      "source": [
        "#print(initial_data)"
      ]
    },
    {
      "cell_type": "markdown",
      "metadata": {
        "id": "3nHZdpt9uM6F"
      },
      "source": [
        "## SOM Setup"
      ]
    },
    {
      "cell_type": "code",
      "execution_count": null,
      "metadata": {
        "collapsed": true,
        "id": "f6RTAjO3uM6F"
      },
      "outputs": [],
      "source": [
        "# Initialize the main variables: (1) the side of the Kohonen map, (2) number of iterations (epochs) and the (3) learning rate.\n",
        "# Initialize the variable normalize_data depending on whether you need to normalize the data or not.\n",
        "\n",
        "map_side = 30\n",
        "#size that we want for the kohonnen map, relates to te explanation of the result, many is difficult to represent all the patterns = worst model (10/20/5 correct)\n",
        "epochs = 55000\n",
        "#number of iterations for the training\n",
        "initial_lr = 0.001\n",
        "#initial learning rate\n",
        "normalize_data = True\n",
        "#normalize for floating numbers; RBG (integers = minimize number or floating point numbers (0-1))"
      ]
    },
    {
      "cell_type": "code",
      "execution_count": null,
      "metadata": {
        "id": "WQt7pW8cx08T",
        "colab": {
          "base_uri": "https://localhost:8080/"
        },
        "outputId": "9f6565c2-0e77-4089-e228-59dcffd7d1d8"
      },
      "outputs": [
        {
          "output_type": "execute_result",
          "data": {
            "text/plain": [
              "(100, 3)"
            ]
          },
          "metadata": {},
          "execution_count": 5
        }
      ],
      "source": [
        "initial_data.shape"
      ]
    },
    {
      "cell_type": "markdown",
      "metadata": {
        "id": "vOGjf322uM6F"
      },
      "source": [
        "#### From this point there are only calculations. No more values ​​are inserted \"by hand\"."
      ]
    },
    {
      "cell_type": "code",
      "execution_count": null,
      "metadata": {
        "collapsed": true,
        "id": "DB2e4PQpuM6F",
        "colab": {
          "base_uri": "https://localhost:8080/"
        },
        "outputId": "85cc6df7-d6b4-415d-f071-453e8cf1ac19"
      },
      "outputs": [
        {
          "output_type": "stream",
          "name": "stdout",
          "text": [
            "(30, 30, 3)\n",
            "[[[0.22105306 0.51939675 0.46972032]\n",
            "  [0.66235545 0.83178165 0.21543832]\n",
            "  [0.63229465 0.59996989 0.14353523]\n",
            "  ...\n",
            "  [0.23974332 0.74378052 0.44005819]\n",
            "  [0.40404111 0.99314836 0.28585008]\n",
            "  [0.22158903 0.03879637 0.51437764]]\n",
            "\n",
            " [[0.32436321 0.86498748 0.90916671]\n",
            "  [0.97966106 0.32447132 0.22287856]\n",
            "  [0.39109932 0.29257993 0.19752444]\n",
            "  ...\n",
            "  [0.8232204  0.91616019 0.59781122]\n",
            "  [0.65667534 0.74230094 0.65201324]\n",
            "  [0.38851348 0.91305524 0.2736289 ]]\n",
            "\n",
            " [[0.89898646 0.74549472 0.32810376]\n",
            "  [0.56773772 0.54587184 0.26488656]\n",
            "  [0.39168253 0.87220383 0.56523997]\n",
            "  ...\n",
            "  [0.49662971 0.44062386 0.24667181]\n",
            "  [0.46819503 0.49519777 0.94559351]\n",
            "  [0.08392754 0.18622511 0.73335308]]\n",
            "\n",
            " ...\n",
            "\n",
            " [[0.35132667 0.11611078 0.90472724]\n",
            "  [0.18134397 0.8773544  0.69696481]\n",
            "  [0.71969867 0.93393677 0.7889451 ]\n",
            "  ...\n",
            "  [0.0508448  0.45455714 0.37246886]\n",
            "  [0.98925568 0.05533695 0.9568267 ]\n",
            "  [0.1095632  0.51474689 0.90326496]]\n",
            "\n",
            " [[0.63686025 0.98223495 0.05833211]\n",
            "  [0.16020389 0.87302188 0.3043833 ]\n",
            "  [0.00383616 0.01903204 0.08709719]\n",
            "  ...\n",
            "  [0.01584681 0.70259142 0.70221776]\n",
            "  [0.86049199 0.21812101 0.46375025]\n",
            "  [0.18007503 0.45800311 0.70005207]]\n",
            "\n",
            " [[0.57677292 0.09786972 0.68602295]\n",
            "  [0.83309994 0.13338341 0.08853461]\n",
            "  [0.68412136 0.40713653 0.42187697]\n",
            "  ...\n",
            "  [0.88243502 0.51797478 0.8336324 ]\n",
            "  [0.14828628 0.59877906 0.12580472]\n",
            "  [0.44901243 0.90693912 0.07773643]]]\n"
          ]
        }
      ],
      "source": [
        "# Set the number of inputs for the map and the number of data points to be used for training.\n",
        "# Use a function to automatically obtain the values from the Dataset.\n",
        "#according to shape\n",
        "num_data = initial_data.shape[0]\n",
        "num_inputs = initial_data.shape[1]\n",
        "\n",
        "# Calculate the initial neighborhood. It should be half the size of the Kohonen map's size.\n",
        "#sigma = neighbourhood size\n",
        "initial_sigma = max(map_side, map_side) / 2\n",
        "\n",
        "# Normalize the data if necessary by dividing each data point by the maximum value in the matrix.\n",
        "#better maximum(normalization) than euclidean form = because of the nature of the data, RGB we know the range\n",
        "#for the dimension add else in case rectangular\n",
        "if normalize_data:\n",
        "    normalized_data = initial_data / initial_data.max()\n",
        "else:\n",
        "   normalized_data = initial_data\n",
        "\n",
        "# Create a weight matrix with random values between 0 and 1. Use the random or random_uniform functions from the NumPy library.\n",
        "# More info (random.random):\n",
        "# More info (random.random_uniform):\n",
        "\n",
        "initial_weight_matrix = np.random.rand(map_side,map_side,num_inputs)\n",
        "\n",
        "print(initial_weight_matrix.shape)\n",
        "#all values between 0-1\n",
        "print(initial_weight_matrix)\n",
        "\n",
        "if normalize_data:\n",
        "  normalized_weight_matrix = initial_weight_matrix\n",
        "else:\n",
        "  normalized_weight_matrix = initial_weight_matrix\n",
        "\n",
        "#define structure and location of the coordinates, output index definition for kohonnen map\n",
        "output_index = np.indices((map_side,map_side))\n"
      ]
    },
    {
      "cell_type": "code",
      "source": [
        "#print(output_index)"
      ],
      "metadata": {
        "id": "N_-XuARUtQ7r"
      },
      "execution_count": null,
      "outputs": []
    },
    {
      "cell_type": "code",
      "execution_count": null,
      "metadata": {
        "id": "XOnSuzmmwO9y"
      },
      "outputs": [],
      "source": [
        "#print(normalized_data)"
      ]
    },
    {
      "cell_type": "code",
      "execution_count": null,
      "metadata": {
        "id": "yp-9WVi6zIoX"
      },
      "outputs": [],
      "source": [
        "#print(normalized_weight_matrix)"
      ]
    },
    {
      "cell_type": "markdown",
      "metadata": {
        "id": "BsMcZmwYuM6F"
      },
      "source": [
        "#### Funciones para entrenar/clasificar"
      ]
    },
    {
      "cell_type": "code",
      "execution_count": null,
      "metadata": {
        "collapsed": true,
        "id": "j4AzBElwuM6G"
      },
      "outputs": [],
      "source": [
        "# Function to calculate the BMU.\n",
        "\n",
        "def calculate_bmu(\n",
        "    input_pattern,\n",
        "    weight_matrix):\n",
        "    \"\"\"\n",
        "    Finds the BMU (Best Matching Unit) for an input pattern on a Kohonen map.\n",
        "\n",
        "    Parameters:\n",
        "    input_pattern (numpy array): Input pattern to be compared with the weight vectors.\n",
        "    weight_matrix (numpy array): Matrix of weight vectors representing the Kohonen map.\n",
        "\n",
        "    Returns:\n",
        "    tuple: A tuple containing the BMU (Best Matching Unit) weight vector and its coordinates.\n",
        "    \"\"\"\n",
        "\n",
        "    distance_matrix = np.sqrt(((weight_matrix - input_pattern)**2).sum(axis = 2))\n",
        "\n",
        "    idx = np.argmin(distance_matrix)\n",
        "\n",
        "    bmu_flat_idx = np.argmin(distance_matrix)\n",
        "\n",
        "    bmu_idx = np.unravel_index(bmu_flat_idx,(map_side,map_side))\n",
        "\n",
        "    bmu = weight_matrix[bmu_idx]\n",
        "\n",
        "    idx = np.argmin(np.sqrt(((weight_matrix - input_pattern)**2).sum(axis = 2)))\n",
        "\n",
        "    return (bmu,np.unravel_index(idx,(map_side,map_side)))\n",
        "\n",
        "    # # Calcula la distancia euclidiana de cada vector de peso en la matriz al patrón de entrada.\n",
        "    # distance_matrix = np.sqrt(((weight_matrix - input_pattern) ** 2).sum(axis=2))\n",
        "\n",
        "    # # Encuentra el índice del vector de peso con la menor distancia (BMU) en el formato aplanado.\n",
        "    # bmu_flat_idx = np.argmin(distance_matrix)\n",
        "\n",
        "    # # Convierte el índice aplanado a coordenadas 2D.\n",
        "    # bmu_idx = np.unravel_index(bmu_flat_idx, (map_side, map_side))\n",
        "\n",
        "    # # Obtiene el vector de peso de la BMU utilizando las coordenadas 2D.\n",
        "    # bmu = weight_matrix[bmu_idx]\n",
        "\n",
        "    # return (bmu, bmu_idx)"
      ]
    },
    {
      "cell_type": "code",
      "execution_count": null,
      "metadata": {
        "collapsed": true,
        "id": "AMhureJOuM6G"
      },
      "outputs": [],
      "source": [
        "# Function to calculate the descent of the learning coefficient (alpha)\n",
        "\n",
        "def learning_rate_variation(\n",
        "    initial_lr,\n",
        "    i,\n",
        "    epochs):\n",
        "    \"\"\"\n",
        "    Calculate the learning rate (alpha) for the i-th iteration.\n",
        "\n",
        "    Parameters:\n",
        "    initial_lr (float): Initial learning rate.\n",
        "    i (int): Current iteration.\n",
        "    epochs (int): Total number of iterations.\n",
        "\n",
        "    Returns:\n",
        "    float: Learning rate for the i-th iteration.\n",
        "    \"\"\"\n",
        "\n",
        "    # Calcular la tasa de aprendizaje actual basada en una disminución lineal.\n",
        "    #initial_lr * initial_lr * (1 - i / epochs)\n",
        "    return initial_lr * np.exp(1 - i / epochs)"
      ]
    },
    {
      "cell_type": "code",
      "execution_count": null,
      "metadata": {
        "collapsed": true,
        "id": "oMiRPv6FuM6G"
      },
      "outputs": [],
      "source": [
        "# Función para calcular el descenso del vecindario (v)\n",
        "\n",
        "def neighborhood_variation(\n",
        "    neighborhood,\n",
        "    i,\n",
        "    epochs):\n",
        "    \"\"\"\n",
        "    Calculate the neighborhood (v) for the i-th iteration.\n",
        "\n",
        "    Parameters:\n",
        "    initial_neighborhood (float): Initial neighborhood value.\n",
        "    i (int): Current iteration.\n",
        "    epochs (int): Total number of iterations.\n",
        "\n",
        "    Returns:\n",
        "    float: Neighborhood value for the i-th iteration.\n",
        "    \"\"\"\n",
        "    return (neighborhood * np.exp(-1 / epochs)) + 1"
      ]
    },
    {
      "cell_type": "code",
      "execution_count": null,
      "metadata": {
        "collapsed": true,
        "id": "fDdMzJ71uM6G"
      },
      "outputs": [],
      "source": [
        "# Topological Neighbourhood Function\n",
        "\n",
        "def decay(\n",
        "    distance_to_bmu,\n",
        "    current_neighborhood):\n",
        "    \"\"\"\n",
        "    Calculate the distribution of the learning rate based on the distance in the map between a neuron and the BMU.\n",
        "\n",
        "    Parameters:\n",
        "    distance_to_bmu (float): Distance between a neuron and the BMU.\n",
        "    current_neighborhood (float): Current neighborhood value.\n",
        "\n",
        "    Returns:\n",
        "    float: Damping factor for the iteration.\n",
        "    \"\"\"\n",
        "    return np.exp(-distance_to_bmu**2 / (2 * current_neighborhood**2))\n"
      ]
    },
    {
      "cell_type": "markdown",
      "metadata": {
        "id": "WnibKrzluM6G"
      },
      "source": [
        "#### Funciones para dibujar la salida de la red"
      ]
    },
    {
      "cell_type": "code",
      "source": [
        "# Function to print a matrix of values as RGB colors\n",
        "\n",
        "def paint_map(\n",
        "    value_matrix,\n",
        "    epochs):\n",
        "    \"\"\"\n",
        "    Function to visualize a matrix of values as RGB colors.\n",
        "\n",
        "    Parameters:\n",
        "    value_matrix (numpy array): Matrix of RGB values to be visualized.\n",
        "    epochs (int): Number of epochs (iterations) completed.\n",
        "\n",
        "    Returns:\n",
        "    None\n",
        "    \"\"\"\n",
        "\n",
        "    fig = plt.figure()\n",
        "\n",
        "    # Set axes\n",
        "    ax = fig.add_subplot(111, aspect='equal')\n",
        "    ax.set_xlim((0, value_matrix.shape[0]+1))\n",
        "    ax.set_ylim((0, value_matrix.shape[1]+1))\n",
        "    ax.set_title('Self-Organizing Map after %d iterations' % epochs)\n",
        "\n",
        "    for x in range(1, map_side + 1):\n",
        "      for y in range(1, map_side + 1):\n",
        "        ax.add_patch(\n",
        "            patches.Rectangle((x-0.5, y-0.5), 1, 1,\n",
        "            facecolor = value_matrix[x-1,y-1,:],\n",
        "            edgecolor = 'none'))\n",
        "\n",
        "    plt.show()"
      ],
      "metadata": {
        "id": "4Ru4ozml4j3p"
      },
      "execution_count": null,
      "outputs": []
    },
    {
      "cell_type": "code",
      "source": [
        "training_data = normalized_data\n",
        "training_data.shape[0]"
      ],
      "metadata": {
        "id": "N5Io0Uottm0X",
        "colab": {
          "base_uri": "https://localhost:8080/"
        },
        "outputId": "7933a456-eb3a-423c-848a-65712b2f3e77"
      },
      "execution_count": null,
      "outputs": [
        {
          "output_type": "execute_result",
          "data": {
            "text/plain": [
              "100"
            ]
          },
          "metadata": {},
          "execution_count": 15
        }
      ]
    },
    {
      "cell_type": "markdown",
      "metadata": {
        "id": "puOJ6RRJuM6G"
      },
      "source": [
        "## SOM Training step"
      ]
    },
    {
      "cell_type": "code",
      "execution_count": null,
      "metadata": {
        "collapsed": true,
        "id": "F7P6aMgguM6G"
      },
      "outputs": [],
      "source": [
        "def train(training_data, weight_matrix, lr, neighborhood, epochs, map_side):\n",
        "    for epoch in range(1, epochs + 1):\n",
        "        # Selecciona un patrón aleatorio del conjunto de datos\n",
        "        input_sample = training_data[np.random.randint(0, len(training_data))]\n",
        "\n",
        "        # Calcula/Actualiza los parámetros para esta iteración\n",
        "        learning_rate = learning_rate_variation(lr, epoch, epochs)\n",
        "        current_neighborhood = neighborhood_variation(neighborhood, epoch, epochs)\n",
        "\n",
        "        # Encuentra la Unidad de Mejor Coincidencia (BMU) para el patrón de entrada\n",
        "        bmu, bmu_idx = calculate_bmu(input_sample, weight_matrix)\n",
        "\n",
        "        # Calcula la distancia de cada neurona a la BMU y ajusta los pesos\n",
        "        for x in range(map_side):\n",
        "            for y in range(map_side):\n",
        "                distance_to_bmu = np.sqrt((x - bmu_idx[0])**2 + (y - bmu_idx[1])**2)\n",
        "                if distance_to_bmu <= current_neighborhood:\n",
        "                    influence = decay(distance_to_bmu, current_neighborhood)\n",
        "                    weight_matrix[x, y, :] += learning_rate * influence * (input_sample - weight_matrix[x, y, :])\n",
        "\n",
        "        # Visualización de la matriz de pesos cada 100 iteraciones\n",
        "        if epoch % 5000 == 0:\n",
        "            clear_output(wait=True)  # Limpia la salida anterior\n",
        "            print(f\"Iteración: {epoch}/{epochs}\")\n",
        "            # Normaliza la matriz de pesos para la visualización\n",
        "            weight_matrix_normalized = (weight_matrix - weight_matrix.min()) / (weight_matrix.max() - weight_matrix.min())\n",
        "            paint_map(weight_matrix_normalized, epoch)\n",
        "\n",
        "    return weight_matrix\n"
      ]
    },
    {
      "cell_type": "markdown",
      "metadata": {
        "id": "Bb8KjQssuM6G"
      },
      "source": [
        "## SOM Classification step"
      ]
    },
    {
      "cell_type": "code",
      "execution_count": null,
      "metadata": {
        "collapsed": true,
        "id": "_5yGeC2uuM6G"
      },
      "outputs": [],
      "source": [
        "# Classify the training patterns with the newly trained weight matrix.\n",
        "def classify_patterns(training_data, weight_matrix):\n",
        "    \"\"\"\n",
        "    Classify the training patterns using the trained weight matrix.\n",
        "\n",
        "    Parameters:\n",
        "    training_data (numpy array): The dataset used for training.\n",
        "    weight_matrix (numpy array): The trained weight matrix of the SOM.\n",
        "\n",
        "    Returns:\n",
        "    numpy array: An array containing the BMU indices for each input pattern.\n",
        "    \"\"\"\n",
        "    bmu_indices = []\n",
        "\n",
        "    for input_sample in training_data:\n",
        "        # Encuentra la BMU para el patrón de entrada actual.\n",
        "        _, bmu_idx = calculate_bmu(input_sample, weight_matrix)\n",
        "        bmu_indices.append(bmu_idx)\n",
        "\n",
        "    return np.array(bmu_indices)\n",
        "\n",
        "    # Después del entrenamiento, clasifica los patrones de entrenamiento.\n",
        "    bmu_indices = classify_patterns(training_data, weight_matrix)\n",
        "\n",
        "    # Opcional: Imprimir o procesar los índices de las BMU para cada patrón de entrada.\n",
        "\n",
        "    for i, bmu_idx in enumerate(bmu_indices):\n",
        "        print(f\"Patrón {i} clasificado en la neurona con índice {bmu_idx}.\")\n",
        "\n"
      ]
    },
    {
      "cell_type": "markdown",
      "metadata": {
        "id": "DdGXFCuhuM6G"
      },
      "source": [
        "## SOM Test step"
      ]
    },
    {
      "cell_type": "code",
      "execution_count": null,
      "metadata": {
        "collapsed": true,
        "id": "ECAlagykuM6G"
      },
      "outputs": [],
      "source": [
        "# Classify new patterns\n",
        "def classify_new_patterns(new_data, weight_matrix):\n",
        "    \"\"\"\n",
        "    Classify new patterns using the trained weight matrix of the SOM.\n",
        "\n",
        "    Parameters:\n",
        "    new_data (numpy array): The new dataset to classify.\n",
        "    weight_matrix (numpy array): The trained weight matrix of the SOM.\n",
        "\n",
        "    Returns:\n",
        "    numpy array: An array containing the BMU indices for each new pattern.\n",
        "    \"\"\"\n",
        "    bmu_indices = []\n",
        "\n",
        "    for input_sample in new_data:\n",
        "        # Find the Best Matching Unit (BMU) for the input pattern.\n",
        "        _, bmu_idx = calculate_bmu(input_sample, weight_matrix)\n",
        "        bmu_indices.append(bmu_idx)\n",
        "\n",
        "    return np.array(bmu_indices)\n"
      ]
    },
    {
      "cell_type": "code",
      "source": [
        "weight_matrix = np.random.rand(map_side, map_side, 3)  # Inicialización de la matriz de pesos\n",
        "trained_weight_matrix = train(normalized_data, normalized_weight_matrix, initial_lr, initial_sigma, epochs, map_side)\n"
      ],
      "metadata": {
        "id": "26VSpukk6H6n",
        "outputId": "e6424c34-9300-4067-d119-76f42f2fc016",
        "colab": {
          "base_uri": "https://localhost:8080/",
          "height": 470
        }
      },
      "execution_count": null,
      "outputs": [
        {
          "output_type": "stream",
          "name": "stdout",
          "text": [
            "Iteración: 10000/55000\n"
          ]
        },
        {
          "output_type": "display_data",
          "data": {
            "text/plain": [
              "<Figure size 640x480 with 1 Axes>"
            ],
            "image/png": "[encoded data removed]"
          },
          "metadata": {}
        }
      ]
    },
    {
      "cell_type": "code",
      "source": [
        "# Initialize classification map, activation map, and distance map\n",
        "classification_map = np.zeros((map_side, map_side, num_colors), dtype=int)\n",
        "activation_map = np.zeros((map_side, map_side), dtype=int)\n",
        "distance_map = np.zeros((map_side, map_side), dtype=float)\n",
        "\n",
        "# Test the trained SOM with the test_set\n",
        "test_set = [[255, 255, 255], [255, 0, 0], [0, 255, 0], [0, 0, 255], [255, 255, 0], [255, 0, 255], [0, 255, 255], [5, 5, 5]]\n",
        "test_set_normalized = np.array(test_set) / initial_data.max()\n",
        "\n",
        "for i, test_pattern in enumerate(test_set_normalized):\n",
        "    # Find the Best Matching Unit (BMU) for the test pattern\n",
        "    bmu, bmu_idx = calculate_bmu(test_pattern, normalized_weight_matrix)\n",
        "\n",
        "    # Print the coordinates (x, y) of the BMU for each test pattern in the test_set\n",
        "    print(f\"BMU for test pattern {i+1}: ({bmu_idx[0]}, {bmu_idx[1]})\")\n",
        "\n",
        "    # Update the classification map for the test_set\n",
        "    classification_map[bmu_idx[0], bmu_idx[1], :] = test_pattern\n",
        "\n",
        "    # Update the activation map for the test_set\n",
        "    activation_map[bmu_idx[0], bmu_idx[1]] += 1\n",
        "\n",
        "    # Check if activation_map is non-zero before updating distance_map\n",
        "    if activation_map[bmu_idx[0], bmu_idx[1]] > 0:\n",
        "        # Update the distance map for the test_set\n",
        "        distance_map[bmu_idx[0], bmu_idx[1]] += np.sqrt((test_pattern - normalized_weight_matrix[bmu_idx])**2).sum()\n",
        "\n",
        "# Calculate the number of classes for the test_set\n",
        "num_classes_test_set = np.count_nonzero(activation_map)\n",
        "\n",
        "# Calculate the average distance (Quantization Error) for the test_set\n",
        "# Handle division by zero by setting nan values to 0\n",
        "quantization_error_test_set = np.divide(distance_map, activation_map, out=np.zeros_like(distance_map), where=activation_map!=0)\n",
        "\n",
        "# Calculate the Topological Error for the test_set\n",
        "topological_error_test_set = np.count_nonzero(activation_map > 1)\n",
        "\n",
        "# Print the results for the test_set\n",
        "print(\"\\nResults for Test Set:\")\n",
        "print(f\"Number of Classes: {num_classes_test_set}\")\n",
        "paint_map(classification_map, 0)\n",
        "paint_map(normalized_weight_matrix,epochs)\n",
        "print(activation_map.shape)\n",
        "print(f\"Quantization Error: {np.nanmean(quantization_error_test_set)}\")  # Use np.nanmean to handle nan values\n",
        "print(f\"Topological Error: {topological_error_test_set}\")"
      ],
      "metadata": {
        "id": "q9MP2iH0w7SP"
      },
      "execution_count": null,
      "outputs": []
    }
  ],
  "metadata": {
    "anaconda-cloud": {},
    "colab": {
      "provenance": []
    },
    "kernelspec": {
      "display_name": "Python 3",
      "language": "python",
      "name": "python3"
    },
    "language_info": {
      "codemirror_mode": {
        "name": "ipython",
        "version": 3
      },
      "file_extension": ".py",
      "mimetype": "text/x-python",
      "name": "python",
      "nbconvert_exporter": "python",
      "pygments_lexer": "ipython3",
      "version": "3.7.4"
    }
  },
  "nbformat": 4,
  "nbformat_minor": 0
}
